{
  "nbformat": 4,
  "nbformat_minor": 0,
  "metadata": {
    "colab": {
      "name": "data_anonymization.ipynb",
      "version": "0.3.2",
      "provenance": [],
      "collapsed_sections": [],
      "include_colab_link": true
    },
    "kernelspec": {
      "name": "python2",
      "display_name": "Python 2"
    }
  },
  "cells": [
    {
      "cell_type": "markdown",
      "metadata": {
        "id": "view-in-github",
        "colab_type": "text"
      },
      "source": [
        "<a href=\"https://colab.research.google.com/github/iman-saleh/ethical-ai/blob/master/data_anonymization.ipynb\" target=\"_parent\"><img src=\"https://colab.research.google.com/assets/colab-badge.svg\" alt=\"Open In Colab\"/></a>"
      ]
    },
    {
      "metadata": {
        "id": "u3GY8CNmYx82",
        "colab_type": "code",
        "colab": {
          "base_uri": "https://localhost:8080/",
          "height": 54
        },
        "outputId": "133aee9c-ef66-4abc-b25f-7a6534f24fcb"
      },
      "cell_type": "code",
      "source": [
        "'''\n",
        "    This tutorial shows an example of data anonymization. The code is largley based on the blog https://databricks.com/blog/2017/02/13/anonymizing-datasets-at-scale-leveraging-databricks-interoperability.html\n",
        "    Code has been modified to better fit a tutorial setting.\n",
        "    \n",
        "'''"
      ],
      "execution_count": 54,
      "outputs": [
        {
          "output_type": "execute_result",
          "data": {
            "text/plain": [
              "'\\n    This tutorial shows an example of data anonymization. The code is largley based on the blog https://databricks.com/blog/2017/02/13/anonymizing-datasets-at-scale-leveraging-databricks-interoperability.html\\n    Code has been modified to better fit a tutorial setting.\\n    \\n'"
            ]
          },
          "metadata": {
            "tags": []
          },
          "execution_count": 54
        }
      ]
    },
    {
      "metadata": {
        "id": "zf986kfpY2YA",
        "colab_type": "code",
        "colab": {
          "base_uri": "https://localhost:8080/",
          "height": 118
        },
        "outputId": "d64b869c-ae60-40b0-adfa-9420cbb46813"
      },
      "cell_type": "code",
      "source": [
        "!pip install Faker unicodecsv"
      ],
      "execution_count": 55,
      "outputs": [
        {
          "output_type": "stream",
          "text": [
            "Requirement already satisfied: Faker in /usr/local/lib/python2.7/dist-packages (1.0.2)\n",
            "Requirement already satisfied: unicodecsv in /usr/local/lib/python2.7/dist-packages (0.14.1)\n",
            "Requirement already satisfied: python-dateutil>=2.4 in /usr/local/lib/python2.7/dist-packages (from Faker) (2.5.3)\n",
            "Requirement already satisfied: six>=1.10 in /usr/local/lib/python2.7/dist-packages (from Faker) (1.11.0)\n",
            "Requirement already satisfied: ipaddress; python_version == \"2.7\" in /usr/local/lib/python2.7/dist-packages (from Faker) (1.0.22)\n",
            "Requirement already satisfied: text-unidecode==1.2 in /usr/local/lib/python2.7/dist-packages (from Faker) (1.2)\n"
          ],
          "name": "stdout"
        }
      ]
    },
    {
      "metadata": {
        "id": "AIBksUSPf0Kt",
        "colab_type": "code",
        "colab": {}
      },
      "cell_type": "code",
      "source": [
        "import unicodecsv as csv\n",
        "from faker import Faker\n",
        "import pandas as pd\n",
        "from collections import defaultdict"
      ],
      "execution_count": 0,
      "outputs": []
    },
    {
      "metadata": {
        "id": "4Mv2F1HYf3C2",
        "colab_type": "code",
        "colab": {}
      },
      "cell_type": "code",
      "source": [
        "def anonymize_rows(rows):\n",
        "    \"\"\"\n",
        "    Rows is an iterable of dictionaries that contain name and\n",
        "    email fields that need to be anonymized.\n",
        "    \"\"\"\n",
        "    # Load faker\n",
        "    # Check localization options at https://github.com/joke2k/faker#localization\n",
        "    faker  = Faker()\n",
        "\n",
        "    # Create mappings of names, emails, social security numbers, and phone numbers to faked names & emails.\n",
        "    names  = defaultdict(faker.name)\n",
        "    emails = defaultdict(faker.email)\n",
        "    ssns = defaultdict(faker.ssn)\n",
        "    phone_numbers = defaultdict(faker.phone_number)\n",
        "    \n",
        "    # for _ in range(10):\n",
        "    #  print(faker.name())\n",
        "\n",
        "    # Iterate over the rows from the file and yield anonymized rows.\n",
        "    for row in rows:\n",
        "        # Replace name and email fields with faked fields.\n",
        "        row[\"name\"]  = names[row[\"name\"]]\n",
        "        row[\"email\"] = emails[row[\"email\"]]\n",
        "        row[\"ssn\"] = ssns[row[\"ssn\"]]\n",
        "        row[\"phone_number\"] = phone_numbers[row[\"phone_number\"]]\n",
        "\n",
        "\n",
        "        # Yield the row back to the caller\n",
        "        yield row"
      ],
      "execution_count": 0,
      "outputs": []
    },
    {
      "metadata": {
        "id": "OFask2dugGeK",
        "colab_type": "code",
        "colab": {}
      },
      "cell_type": "code",
      "source": [
        "def anonymize(source, target):\n",
        "    \"\"\"\n",
        "    The source argument is a path to a CSV file containing data to anonymize,\n",
        "    while target is a path to write the anonymized CSV data to.\n",
        "    \"\"\"\n",
        "    with open(source, 'rU') as f:\n",
        "        with open(target, 'w') as o:\n",
        "            # Use the DictReader to easily extract fields\n",
        "            reader = csv.DictReader(f)\n",
        "            writer = csv.DictWriter(o, reader.fieldnames)\n",
        "            writer.writeheader()\n",
        "\n",
        "            # Read and anonymize data, writing to target file.\n",
        "            for row in anonymize_rows(reader):\n",
        "                writer.writerow(row)"
      ],
      "execution_count": 0,
      "outputs": []
    },
    {
      "metadata": {
        "id": "C4HRO6ATJree",
        "colab_type": "code",
        "colab": {}
      },
      "cell_type": "code",
      "source": [
        "input_file = \"sample_data/data.csv\"\n",
        "output_file = \"sample_data/data_anonymized.csv\""
      ],
      "execution_count": 0,
      "outputs": []
    },
    {
      "metadata": {
        "id": "PGpvpGEtJ23R",
        "colab_type": "code",
        "colab": {
          "base_uri": "https://localhost:8080/",
          "height": 195
        },
        "outputId": "e1f6f759-b235-4969-a7c1-06c723308401"
      },
      "cell_type": "code",
      "source": [
        "#Show data before anonymization\n",
        "data = pd.read_csv(input_file)\n",
        "data.head()"
      ],
      "execution_count": 60,
      "outputs": [
        {
          "output_type": "execute_result",
          "data": {
            "text/html": [
              "<div>\n",
              "<style scoped>\n",
              "    .dataframe tbody tr th:only-of-type {\n",
              "        vertical-align: middle;\n",
              "    }\n",
              "\n",
              "    .dataframe tbody tr th {\n",
              "        vertical-align: top;\n",
              "    }\n",
              "\n",
              "    .dataframe thead th {\n",
              "        text-align: right;\n",
              "    }\n",
              "</style>\n",
              "<table border=\"1\" class=\"dataframe\">\n",
              "  <thead>\n",
              "    <tr style=\"text-align: right;\">\n",
              "      <th></th>\n",
              "      <th>name</th>\n",
              "      <th>email</th>\n",
              "      <th>ssn</th>\n",
              "      <th>phone_number</th>\n",
              "      <th>drugs</th>\n",
              "      <th>marital status</th>\n",
              "    </tr>\n",
              "  </thead>\n",
              "  <tbody>\n",
              "    <tr>\n",
              "      <th>0</th>\n",
              "      <td>Griffin Spears</td>\n",
              "      <td>metus.Aenean@justofaucibus.edu</td>\n",
              "      <td>052-89-6340</td>\n",
              "      <td>1-609-529-6386</td>\n",
              "      <td>APAP/Codeine</td>\n",
              "      <td>Married</td>\n",
              "    </tr>\n",
              "    <tr>\n",
              "      <th>1</th>\n",
              "      <td>Theodore Kim</td>\n",
              "      <td>aliquam.iaculis@urna.co.uk</td>\n",
              "      <td>591-59-1129</td>\n",
              "      <td>1-519-448-6170</td>\n",
              "      <td>Lovastatin</td>\n",
              "      <td>Married</td>\n",
              "    </tr>\n",
              "    <tr>\n",
              "      <th>2</th>\n",
              "      <td>Kieran Fletcher</td>\n",
              "      <td>Quisque.imperdiet@rhoncusProinnisl.org</td>\n",
              "      <td>099-49-9523</td>\n",
              "      <td>1-505-428-2353</td>\n",
              "      <td>Triamterene/Hydrochlorothiazide</td>\n",
              "      <td>Common-Law</td>\n",
              "    </tr>\n",
              "    <tr>\n",
              "      <th>3</th>\n",
              "      <td>Griffin Spears</td>\n",
              "      <td>metus.Aenean@justofaucibus.edu</td>\n",
              "      <td>052-89-6340</td>\n",
              "      <td>1-609-529-6386</td>\n",
              "      <td>Amlodipine Besylate</td>\n",
              "      <td>Married</td>\n",
              "    </tr>\n",
              "    <tr>\n",
              "      <th>4</th>\n",
              "      <td>Russell Gross</td>\n",
              "      <td>Vestibulum.ante.ipsum@fringillaporttitorvulput...</td>\n",
              "      <td>624-60-2852</td>\n",
              "      <td>1-766-854-8315</td>\n",
              "      <td>Simvastatin</td>\n",
              "      <td>Single</td>\n",
              "    </tr>\n",
              "  </tbody>\n",
              "</table>\n",
              "</div>"
            ],
            "text/plain": [
              "              name                                              email  \\\n",
              "0   Griffin Spears                     metus.Aenean@justofaucibus.edu   \n",
              "1     Theodore Kim                         aliquam.iaculis@urna.co.uk   \n",
              "2  Kieran Fletcher             Quisque.imperdiet@rhoncusProinnisl.org   \n",
              "3   Griffin Spears                     metus.Aenean@justofaucibus.edu   \n",
              "4    Russell Gross  Vestibulum.ante.ipsum@fringillaporttitorvulput...   \n",
              "\n",
              "           ssn    phone_number                            drugs marital status  \n",
              "0  052-89-6340  1-609-529-6386                     APAP/Codeine        Married  \n",
              "1  591-59-1129  1-519-448-6170                       Lovastatin        Married  \n",
              "2  099-49-9523  1-505-428-2353  Triamterene/Hydrochlorothiazide     Common-Law  \n",
              "3  052-89-6340  1-609-529-6386              Amlodipine Besylate        Married  \n",
              "4  624-60-2852  1-766-854-8315                      Simvastatin         Single  "
            ]
          },
          "metadata": {
            "tags": []
          },
          "execution_count": 60
        }
      ]
    },
    {
      "metadata": {
        "id": "03MJOdPUkXxW",
        "colab_type": "code",
        "colab": {}
      },
      "cell_type": "code",
      "source": [
        "#Call anonymization on the input data file\n",
        "anonymize(input_file, output_file )"
      ],
      "execution_count": 0,
      "outputs": []
    },
    {
      "metadata": {
        "id": "eWSZ-lMsH1L2",
        "colab_type": "code",
        "colab": {
          "base_uri": "https://localhost:8080/",
          "height": 195
        },
        "outputId": "04dd1863-999f-414a-9782-87301e07dd42"
      },
      "cell_type": "code",
      "source": [
        "#Show data after anonymization\n",
        "data_anonymized = pd.read_csv(output_file)\n",
        "data_anonymized.head()"
      ],
      "execution_count": 62,
      "outputs": [
        {
          "output_type": "execute_result",
          "data": {
            "text/html": [
              "<div>\n",
              "<style scoped>\n",
              "    .dataframe tbody tr th:only-of-type {\n",
              "        vertical-align: middle;\n",
              "    }\n",
              "\n",
              "    .dataframe tbody tr th {\n",
              "        vertical-align: top;\n",
              "    }\n",
              "\n",
              "    .dataframe thead th {\n",
              "        text-align: right;\n",
              "    }\n",
              "</style>\n",
              "<table border=\"1\" class=\"dataframe\">\n",
              "  <thead>\n",
              "    <tr style=\"text-align: right;\">\n",
              "      <th></th>\n",
              "      <th>name</th>\n",
              "      <th>email</th>\n",
              "      <th>ssn</th>\n",
              "      <th>phone_number</th>\n",
              "      <th>drugs</th>\n",
              "      <th>marital status</th>\n",
              "    </tr>\n",
              "  </thead>\n",
              "  <tbody>\n",
              "    <tr>\n",
              "      <th>0</th>\n",
              "      <td>Emma Arellano</td>\n",
              "      <td>patrickmaureen@hunt.com</td>\n",
              "      <td>200-08-5196</td>\n",
              "      <td>+1-868-497-0382x361</td>\n",
              "      <td>APAP/Codeine</td>\n",
              "      <td>Married</td>\n",
              "    </tr>\n",
              "    <tr>\n",
              "      <th>1</th>\n",
              "      <td>Paul Moore</td>\n",
              "      <td>andrewstevenson@yahoo.com</td>\n",
              "      <td>156-35-0890</td>\n",
              "      <td>001-430-505-0155x42602</td>\n",
              "      <td>Lovastatin</td>\n",
              "      <td>Married</td>\n",
              "    </tr>\n",
              "    <tr>\n",
              "      <th>2</th>\n",
              "      <td>Gavin Haley</td>\n",
              "      <td>vwright@gmail.com</td>\n",
              "      <td>341-85-0471</td>\n",
              "      <td>(610)007-4528</td>\n",
              "      <td>Triamterene/Hydrochlorothiazide</td>\n",
              "      <td>Common-Law</td>\n",
              "    </tr>\n",
              "    <tr>\n",
              "      <th>3</th>\n",
              "      <td>Emma Arellano</td>\n",
              "      <td>patrickmaureen@hunt.com</td>\n",
              "      <td>200-08-5196</td>\n",
              "      <td>+1-868-497-0382x361</td>\n",
              "      <td>Amlodipine Besylate</td>\n",
              "      <td>Married</td>\n",
              "    </tr>\n",
              "    <tr>\n",
              "      <th>4</th>\n",
              "      <td>Michael Ferguson</td>\n",
              "      <td>amysmith@hotmail.com</td>\n",
              "      <td>674-41-9108</td>\n",
              "      <td>001-173-487-8293x5426</td>\n",
              "      <td>Simvastatin</td>\n",
              "      <td>Single</td>\n",
              "    </tr>\n",
              "  </tbody>\n",
              "</table>\n",
              "</div>"
            ],
            "text/plain": [
              "               name                      email          ssn  \\\n",
              "0     Emma Arellano    patrickmaureen@hunt.com  200-08-5196   \n",
              "1        Paul Moore  andrewstevenson@yahoo.com  156-35-0890   \n",
              "2       Gavin Haley          vwright@gmail.com  341-85-0471   \n",
              "3     Emma Arellano    patrickmaureen@hunt.com  200-08-5196   \n",
              "4  Michael Ferguson       amysmith@hotmail.com  674-41-9108   \n",
              "\n",
              "             phone_number                            drugs marital status  \n",
              "0     +1-868-497-0382x361                     APAP/Codeine        Married  \n",
              "1  001-430-505-0155x42602                       Lovastatin        Married  \n",
              "2           (610)007-4528  Triamterene/Hydrochlorothiazide     Common-Law  \n",
              "3     +1-868-497-0382x361              Amlodipine Besylate        Married  \n",
              "4   001-173-487-8293x5426                      Simvastatin         Single  "
            ]
          },
          "metadata": {
            "tags": []
          },
          "execution_count": 62
        }
      ]
    }
  ]
}