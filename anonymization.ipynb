{
 "cells": [
  {
   "cell_type": "code",
   "execution_count": 2,
   "metadata": {},
   "outputs": [
    {
     "data": {
      "text/plain": [
       "'\\n    This tutorial shows an example of data anonymization. The code is largley based on the blog https://databricks.com/blog/2017/02/13/anonymizing-datasets-at-scale-leveraging-databricks-interoperability.html\\n    Code has been modified to better fit a tutorial setting.\\n    \\n'"
      ]
     },
     "execution_count": 2,
     "metadata": {},
     "output_type": "execute_result"
    }
   ],
   "source": [
    "'''\n",
    "    This tutorial shows an example of data anonymization. The code is largley based on the blog https://databricks.com/blog/2017/02/13/anonymizing-datasets-at-scale-leveraging-databricks-interoperability.html\n",
    "    Code has been modified to better fit a tutorial setting.\n",
    "    \n",
    "'''"
   ]
  },
  {
   "cell_type": "code",
   "execution_count": 3,
   "metadata": {},
   "outputs": [
    {
     "name": "stdout",
     "output_type": "stream",
     "text": [
      "Collecting Faker\n",
      "  Downloading https://files.pythonhosted.org/packages/79/36/8e1aa2f775018ea11a897bef32b6f80d78dcb6cc6563744f2e1dcf128b82/Faker-1.0.2-py2.py3-none-any.whl (845kB)\n",
      "\u001b[K    100% |████████████████████████████████| 849kB 1.2MB/s eta 0:00:01\n",
      "\u001b[?25hCollecting unicodecsv\n",
      "  Downloading https://files.pythonhosted.org/packages/6f/a4/691ab63b17505a26096608cc309960b5a6bdf39e4ba1a793d5f9b1a53270/unicodecsv-0.14.1.tar.gz\n",
      "Requirement already satisfied: python-dateutil>=2.4 in /usr/local/lib/python2.7/dist-packages (from Faker)\n",
      "Requirement already satisfied: six>=1.10 in /usr/local/lib/python2.7/dist-packages (from Faker)\n",
      "Requirement already satisfied: ipaddress; python_version == \"2.7\" in /usr/local/lib/python2.7/dist-packages (from Faker)\n",
      "Collecting text-unidecode==1.2 (from Faker)\n",
      "  Downloading https://files.pythonhosted.org/packages/79/42/d717cc2b4520fb09e45b344b1b0b4e81aa672001dd128c180fabc655c341/text_unidecode-1.2-py2.py3-none-any.whl (77kB)\n",
      "\u001b[K    100% |████████████████████████████████| 81kB 4.3MB/s eta 0:00:01\n",
      "\u001b[?25hBuilding wheels for collected packages: unicodecsv\n",
      "  Running setup.py bdist_wheel for unicodecsv ... \u001b[?25ldone\n",
      "\u001b[?25h  Stored in directory: /root/.cache/pip/wheels/a6/09/e9/e800279c98a0a8c94543f3de6c8a562f60e51363ed26e71283\n",
      "Successfully built unicodecsv\n",
      "Installing collected packages: text-unidecode, Faker, unicodecsv\n",
      "Successfully installed Faker-1.0.2 text-unidecode-1.2 unicodecsv-0.14.1\n"
     ]
    }
   ],
   "source": [
    "!pip install Faker unicodecsv"
   ]
  },
  {
   "cell_type": "code",
   "execution_count": 4,
   "metadata": {},
   "outputs": [],
   "source": [
    "import unicodecsv as csv\n",
    "from faker import Faker\n",
    "import pandas as pd\n",
    "from collections import defaultdict"
   ]
  },
  {
   "cell_type": "code",
   "execution_count": 5,
   "metadata": {},
   "outputs": [],
   "source": [
    "def anonymize_rows(rows):\n",
    "    \"\"\"\n",
    "    Rows is an iterable of dictionaries that contain name and\n",
    "    email fields that need to be anonymized.\n",
    "    \"\"\"\n",
    "    # Load faker\n",
    "    # Check localization options at https://github.com/joke2k/faker#localization\n",
    "    faker  = Faker()\n",
    "\n",
    "    # Create mappings of names, emails, social security numbers, and phone numbers to faked names & emails.\n",
    "    names  = defaultdict(faker.name)\n",
    "    emails = defaultdict(faker.email)\n",
    "    ssns = defaultdict(faker.ssn)\n",
    "    phone_numbers = defaultdict(faker.phone_number)\n",
    "    \n",
    "    # for _ in range(10):\n",
    "    #  print(faker.name())\n",
    "\n",
    "    # Iterate over the rows from the file and yield anonymized rows.\n",
    "    for row in rows:\n",
    "        # Replace name and email fields with faked fields.\n",
    "        row[\"name\"]  = names[row[\"name\"]]\n",
    "        row[\"email\"] = emails[row[\"email\"]]\n",
    "        row[\"ssn\"] = ssns[row[\"ssn\"]]\n",
    "        row[\"phone_number\"] = phone_numbers[row[\"phone_number\"]]\n",
    "\n",
    "\n",
    "        # Yield the row back to the caller\n",
    "        yield row"
   ]
  },
  {
   "cell_type": "code",
   "execution_count": 6,
   "metadata": {},
   "outputs": [],
   "source": [
    "def anonymize(source, target):\n",
    "    \"\"\"\n",
    "    The source argument is a path to a CSV file containing data to anonymize,\n",
    "    while target is a path to write the anonymized CSV data to.\n",
    "    \"\"\"\n",
    "    with open(source, 'rU') as f:\n",
    "        with open(target, 'w') as o:\n",
    "            # Use the DictReader to easily extract fields\n",
    "            reader = csv.DictReader(f)\n",
    "            writer = csv.DictWriter(o, reader.fieldnames)\n",
    "            writer.writeheader()\n",
    "\n",
    "            # Read and anonymize data, writing to target file.\n",
    "            for row in anonymize_rows(reader):\n",
    "                writer.writerow(row)"
   ]
  },
  {
   "cell_type": "code",
   "execution_count": 7,
   "metadata": {},
   "outputs": [],
   "source": [
    "input_file = \"sample_data/data.csv\"\n",
    "output_file = \"sample_data/data_anonymized.csv\""
   ]
  },
  {
   "cell_type": "code",
   "execution_count": 8,
   "metadata": {},
   "outputs": [
    {
     "data": {
      "text/html": [
       "<div>\n",
       "<style scoped>\n",
       "    .dataframe tbody tr th:only-of-type {\n",
       "        vertical-align: middle;\n",
       "    }\n",
       "\n",
       "    .dataframe tbody tr th {\n",
       "        vertical-align: top;\n",
       "    }\n",
       "\n",
       "    .dataframe thead th {\n",
       "        text-align: right;\n",
       "    }\n",
       "</style>\n",
       "<table border=\"1\" class=\"dataframe\">\n",
       "  <thead>\n",
       "    <tr style=\"text-align: right;\">\n",
       "      <th></th>\n",
       "      <th>name</th>\n",
       "      <th>email</th>\n",
       "      <th>ssn</th>\n",
       "      <th>phone_number</th>\n",
       "      <th>drugs</th>\n",
       "      <th>marital status</th>\n",
       "    </tr>\n",
       "  </thead>\n",
       "  <tbody>\n",
       "    <tr>\n",
       "      <th>0</th>\n",
       "      <td>Griffin Spears</td>\n",
       "      <td>metus.Aenean@justofaucibus.edu</td>\n",
       "      <td>052-89-6340</td>\n",
       "      <td>1-609-529-6386</td>\n",
       "      <td>APAP/Codeine</td>\n",
       "      <td>Married</td>\n",
       "    </tr>\n",
       "    <tr>\n",
       "      <th>1</th>\n",
       "      <td>Theodore Kim</td>\n",
       "      <td>aliquam.iaculis@urna.co.uk</td>\n",
       "      <td>591-59-1129</td>\n",
       "      <td>1-519-448-6170</td>\n",
       "      <td>Lovastatin</td>\n",
       "      <td>Married</td>\n",
       "    </tr>\n",
       "    <tr>\n",
       "      <th>2</th>\n",
       "      <td>Kieran Fletcher</td>\n",
       "      <td>Quisque.imperdiet@rhoncusProinnisl.org</td>\n",
       "      <td>099-49-9523</td>\n",
       "      <td>1-505-428-2353</td>\n",
       "      <td>Triamterene/Hydrochlorothiazide</td>\n",
       "      <td>Common-Law</td>\n",
       "    </tr>\n",
       "    <tr>\n",
       "      <th>3</th>\n",
       "      <td>Griffin Spears</td>\n",
       "      <td>metus.Aenean@justofaucibus.edu</td>\n",
       "      <td>052-89-6340</td>\n",
       "      <td>1-609-529-6386</td>\n",
       "      <td>Amlodipine Besylate</td>\n",
       "      <td>Married</td>\n",
       "    </tr>\n",
       "    <tr>\n",
       "      <th>4</th>\n",
       "      <td>Russell Gross</td>\n",
       "      <td>Vestibulum.ante.ipsum@fringillaporttitorvulput...</td>\n",
       "      <td>624-60-2852</td>\n",
       "      <td>1-766-854-8315</td>\n",
       "      <td>Simvastatin</td>\n",
       "      <td>Single</td>\n",
       "    </tr>\n",
       "  </tbody>\n",
       "</table>\n",
       "</div>"
      ],
      "text/plain": [
       "              name                                              email  \\\n",
       "0   Griffin Spears                     metus.Aenean@justofaucibus.edu   \n",
       "1     Theodore Kim                         aliquam.iaculis@urna.co.uk   \n",
       "2  Kieran Fletcher             Quisque.imperdiet@rhoncusProinnisl.org   \n",
       "3   Griffin Spears                     metus.Aenean@justofaucibus.edu   \n",
       "4    Russell Gross  Vestibulum.ante.ipsum@fringillaporttitorvulput...   \n",
       "\n",
       "           ssn    phone_number                            drugs marital status  \n",
       "0  052-89-6340  1-609-529-6386                     APAP/Codeine        Married  \n",
       "1  591-59-1129  1-519-448-6170                       Lovastatin        Married  \n",
       "2  099-49-9523  1-505-428-2353  Triamterene/Hydrochlorothiazide     Common-Law  \n",
       "3  052-89-6340  1-609-529-6386              Amlodipine Besylate        Married  \n",
       "4  624-60-2852  1-766-854-8315                      Simvastatin         Single  "
      ]
     },
     "execution_count": 8,
     "metadata": {},
     "output_type": "execute_result"
    }
   ],
   "source": [
    "#Show data before anonymization\n",
    "data = pd.read_csv(input_file)\n",
    "data.head()"
   ]
  },
  {
   "cell_type": "code",
   "execution_count": 9,
   "metadata": {},
   "outputs": [],
   "source": [
    "#Call anonymization on the input data file\n",
    "anonymize(input_file, output_file )"
   ]
  },
  {
   "cell_type": "code",
   "execution_count": 10,
   "metadata": {},
   "outputs": [
    {
     "data": {
      "text/html": [
       "<div>\n",
       "<style scoped>\n",
       "    .dataframe tbody tr th:only-of-type {\n",
       "        vertical-align: middle;\n",
       "    }\n",
       "\n",
       "    .dataframe tbody tr th {\n",
       "        vertical-align: top;\n",
       "    }\n",
       "\n",
       "    .dataframe thead th {\n",
       "        text-align: right;\n",
       "    }\n",
       "</style>\n",
       "<table border=\"1\" class=\"dataframe\">\n",
       "  <thead>\n",
       "    <tr style=\"text-align: right;\">\n",
       "      <th></th>\n",
       "      <th>name</th>\n",
       "      <th>email</th>\n",
       "      <th>ssn</th>\n",
       "      <th>phone_number</th>\n",
       "      <th>drugs</th>\n",
       "      <th>marital status</th>\n",
       "    </tr>\n",
       "  </thead>\n",
       "  <tbody>\n",
       "    <tr>\n",
       "      <th>0</th>\n",
       "      <td>Brian Bonilla</td>\n",
       "      <td>johnstewart@montoya.org</td>\n",
       "      <td>643-19-2478</td>\n",
       "      <td>(804)433-1033</td>\n",
       "      <td>APAP/Codeine</td>\n",
       "      <td>Married</td>\n",
       "    </tr>\n",
       "    <tr>\n",
       "      <th>1</th>\n",
       "      <td>Adam Clark</td>\n",
       "      <td>peter18@gmail.com</td>\n",
       "      <td>240-56-0081</td>\n",
       "      <td>(068)407-7212</td>\n",
       "      <td>Lovastatin</td>\n",
       "      <td>Married</td>\n",
       "    </tr>\n",
       "    <tr>\n",
       "      <th>2</th>\n",
       "      <td>Natalie Brown</td>\n",
       "      <td>paul28@payne.net</td>\n",
       "      <td>073-38-8728</td>\n",
       "      <td>+1-878-245-5746x5773</td>\n",
       "      <td>Triamterene/Hydrochlorothiazide</td>\n",
       "      <td>Common-Law</td>\n",
       "    </tr>\n",
       "    <tr>\n",
       "      <th>3</th>\n",
       "      <td>Brian Bonilla</td>\n",
       "      <td>johnstewart@montoya.org</td>\n",
       "      <td>643-19-2478</td>\n",
       "      <td>(804)433-1033</td>\n",
       "      <td>Amlodipine Besylate</td>\n",
       "      <td>Married</td>\n",
       "    </tr>\n",
       "    <tr>\n",
       "      <th>4</th>\n",
       "      <td>Carol Lewis</td>\n",
       "      <td>jenny53@moss.com</td>\n",
       "      <td>574-06-2618</td>\n",
       "      <td>001-087-462-1799</td>\n",
       "      <td>Simvastatin</td>\n",
       "      <td>Single</td>\n",
       "    </tr>\n",
       "  </tbody>\n",
       "</table>\n",
       "</div>"
      ],
      "text/plain": [
       "            name                    email          ssn          phone_number  \\\n",
       "0  Brian Bonilla  johnstewart@montoya.org  643-19-2478         (804)433-1033   \n",
       "1     Adam Clark        peter18@gmail.com  240-56-0081         (068)407-7212   \n",
       "2  Natalie Brown         paul28@payne.net  073-38-8728  +1-878-245-5746x5773   \n",
       "3  Brian Bonilla  johnstewart@montoya.org  643-19-2478         (804)433-1033   \n",
       "4    Carol Lewis         jenny53@moss.com  574-06-2618      001-087-462-1799   \n",
       "\n",
       "                             drugs marital status  \n",
       "0                     APAP/Codeine        Married  \n",
       "1                       Lovastatin        Married  \n",
       "2  Triamterene/Hydrochlorothiazide     Common-Law  \n",
       "3              Amlodipine Besylate        Married  \n",
       "4                      Simvastatin         Single  "
      ]
     },
     "execution_count": 10,
     "metadata": {},
     "output_type": "execute_result"
    }
   ],
   "source": [
    "#Show data after anonymization\n",
    "data_anonymized = pd.read_csv(output_file)\n",
    "data_anonymized.head()"
   ]
  },
  {
   "cell_type": "code",
   "execution_count": null,
   "metadata": {},
   "outputs": [],
   "source": []
  }
 ],
 "metadata": {
  "kernelspec": {
   "display_name": "Python 2",
   "language": "python",
   "name": "python2"
  },
  "language_info": {
   "codemirror_mode": {
    "name": "ipython",
    "version": 2
   },
   "file_extension": ".py",
   "mimetype": "text/x-python",
   "name": "python",
   "nbconvert_exporter": "python",
   "pygments_lexer": "ipython2",
   "version": "2.7.15rc1"
  }
 },
 "nbformat": 4,
 "nbformat_minor": 2
}
