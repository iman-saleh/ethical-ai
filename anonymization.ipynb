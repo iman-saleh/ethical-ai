{
  "nbformat": 4,
  "nbformat_minor": 0,
  "metadata": {
    "colab": {
      "name": "anonymization.ipynb",
      "version": "0.3.2",
      "provenance": []
    },
    "kernelspec": {
      "display_name": "Python 2",
      "language": "python",
      "name": "python2"
    }
  },
  "cells": [
    {
      "metadata": {
        "id": "jOkMmEA8KZNg",
        "colab_type": "code",
        "colab": {
          "base_uri": "https://localhost:8080/",
          "height": 54
        },
        "outputId": "ad6d1c58-0d8c-4dc9-c09b-9a2d208758bd"
      },
      "cell_type": "code",
      "source": [
        "'''\n",
        "    This tutorial shows an example of data anonymization. The code is largley based on the blog https://databricks.com/blog/2017/02/13/anonymizing-datasets-at-scale-leveraging-databricks-interoperability.html\n",
        "    Code has been modified to better fit a tutorial setting.\n",
        "    \n",
        "    Before running the code, you need to create a file data.csv and upload it under sample_date\n",
        "    You can use the sample data file provided here: https://github.com/iman-saleh/ethical-ai/tree/master/sample_data\n",
        "    \n",
        "'''"
      ],
      "execution_count": 8,
      "outputs": [
        {
          "output_type": "execute_result",
          "data": {
            "text/plain": [
              "'\\n    This tutorial shows an example of data anonymization. The code is largley based on the blog https://databricks.com/blog/2017/02/13/anonymizing-datasets-at-scale-leveraging-databricks-interoperability.html\\n    Code has been modified to better fit a tutorial setting.\\n    \\n'"
            ]
          },
          "metadata": {
            "tags": []
          },
          "execution_count": 8
        }
      ]
    },
    {
      "metadata": {
        "id": "4KkQhPm4LMPD",
        "colab_type": "code",
        "colab": {
          "base_uri": "https://localhost:8080/",
          "height": 134
        },
        "outputId": "a21f8646-e093-41e3-80d4-89a541ac120e"
      },
      "cell_type": "code",
      "source": [
        "!git clone https://github.com/iman-saleh/ethical-ai "
      ],
      "execution_count": 9,
      "outputs": [
        {
          "output_type": "stream",
          "text": [
            "Cloning into 'ethical-ai'...\n",
            "remote: Enumerating objects: 199, done.\u001b[K\n",
            "remote: Counting objects: 100% (199/199), done.\u001b[K\n",
            "remote: Compressing objects: 100% (156/156), done.\u001b[K\n",
            "remote: Total 199 (delta 58), reused 165 (delta 36), pack-reused 0\u001b[K\n",
            "Receiving objects: 100% (199/199), 9.32 MiB | 16.15 MiB/s, done.\n",
            "Resolving deltas: 100% (58/58), done.\n"
          ],
          "name": "stdout"
        }
      ]
    },
    {
      "metadata": {
        "id": "QLdsP21VKZN1",
        "colab_type": "code",
        "colab": {
          "base_uri": "https://localhost:8080/",
          "height": 289
        },
        "outputId": "fe2b5bcc-fed2-4967-c72a-f67feedb9ff9"
      },
      "cell_type": "code",
      "source": [
        "!pip install Faker unicodecsv"
      ],
      "execution_count": 2,
      "outputs": [
        {
          "output_type": "stream",
          "text": [
            "Collecting Faker\n",
            "\u001b[?25l  Downloading https://files.pythonhosted.org/packages/f5/7e/41e4efbec4722a6b0fe44acffed08b9477b9334c3e40a7a877291a20e7fe/Faker-1.0.4-py2.py3-none-any.whl (846kB)\n",
            "\u001b[K    100% |████████████████████████████████| 849kB 14.6MB/s \n",
            "\u001b[?25hCollecting unicodecsv\n",
            "  Downloading https://files.pythonhosted.org/packages/6f/a4/691ab63b17505a26096608cc309960b5a6bdf39e4ba1a793d5f9b1a53270/unicodecsv-0.14.1.tar.gz\n",
            "Requirement already satisfied: python-dateutil>=2.4 in /usr/local/lib/python2.7/dist-packages (from Faker) (2.5.3)\n",
            "Requirement already satisfied: six>=1.10 in /usr/local/lib/python2.7/dist-packages (from Faker) (1.11.0)\n",
            "Requirement already satisfied: ipaddress; python_version == \"2.7\" in /usr/local/lib/python2.7/dist-packages (from Faker) (1.0.22)\n",
            "Requirement already satisfied: text-unidecode==1.2 in /usr/local/lib/python2.7/dist-packages (from Faker) (1.2)\n",
            "Building wheels for collected packages: unicodecsv\n",
            "  Building wheel for unicodecsv (setup.py) ... \u001b[?25ldone\n",
            "\u001b[?25h  Stored in directory: /root/.cache/pip/wheels/a6/09/e9/e800279c98a0a8c94543f3de6c8a562f60e51363ed26e71283\n",
            "Successfully built unicodecsv\n",
            "Installing collected packages: Faker, unicodecsv\n",
            "Successfully installed Faker-1.0.4 unicodecsv-0.14.1\n"
          ],
          "name": "stdout"
        }
      ]
    },
    {
      "metadata": {
        "id": "qtT5bXZpKZN_",
        "colab_type": "code",
        "colab": {}
      },
      "cell_type": "code",
      "source": [
        "import unicodecsv as csv\n",
        "from faker import Faker\n",
        "import pandas as pd\n",
        "from collections import defaultdict"
      ],
      "execution_count": 0,
      "outputs": []
    },
    {
      "metadata": {
        "id": "YV1ft_h5KZOC",
        "colab_type": "code",
        "colab": {}
      },
      "cell_type": "code",
      "source": [
        "def anonymize_rows(rows):\n",
        "    \"\"\"\n",
        "    Rows is an iterable of dictionaries that contain name and\n",
        "    email fields that need to be anonymized.\n",
        "    \"\"\"\n",
        "    # Load faker\n",
        "    # Check localization options at https://github.com/joke2k/faker#localization\n",
        "    faker  = Faker()\n",
        "\n",
        "    # Create mappings of names, emails, social security numbers, and phone numbers to faked names & emails.\n",
        "    names  = defaultdict(faker.name)\n",
        "    emails = defaultdict(faker.email)\n",
        "    ssns = defaultdict(faker.ssn)\n",
        "    phone_numbers = defaultdict(faker.phone_number)\n",
        "    \n",
        "    # for _ in range(10):\n",
        "    #  print(faker.name())\n",
        "\n",
        "    # Iterate over the rows from the file and yield anonymized rows.\n",
        "    for row in rows:\n",
        "        # Replace name and email fields with faked fields.\n",
        "        row[\"name\"]  = names[row[\"name\"]]\n",
        "        row[\"email\"] = emails[row[\"email\"]]\n",
        "        row[\"ssn\"] = ssns[row[\"ssn\"]]\n",
        "        row[\"phone_number\"] = phone_numbers[row[\"phone_number\"]]\n",
        "\n",
        "\n",
        "        # Yield the row back to the caller\n",
        "        yield row"
      ],
      "execution_count": 0,
      "outputs": []
    },
    {
      "metadata": {
        "id": "7swuBr5lKZOJ",
        "colab_type": "code",
        "colab": {}
      },
      "cell_type": "code",
      "source": [
        "def anonymize(source, target):\n",
        "    \"\"\"\n",
        "    The source argument is a path to a CSV file containing data to anonymize,\n",
        "    while target is a path to write the anonymized CSV data to.\n",
        "    \"\"\"\n",
        "    with open(source, 'rU') as f:\n",
        "        with open(target, 'w') as o:\n",
        "            # Use the DictReader to easily extract fields\n",
        "            reader = csv.DictReader(f)\n",
        "            writer = csv.DictWriter(o, reader.fieldnames)\n",
        "            writer.writeheader()\n",
        "\n",
        "            # Read and anonymize data, writing to target file.\n",
        "            for row in anonymize_rows(reader):\n",
        "                writer.writerow(row)"
      ],
      "execution_count": 0,
      "outputs": []
    },
    {
      "metadata": {
        "id": "5UUx1WOzKZOP",
        "colab_type": "code",
        "colab": {}
      },
      "cell_type": "code",
      "source": [
        "input_file = \"sample_data/data.csv\"\n",
        "output_file = \"sample_data/data_anonymized.csv\""
      ],
      "execution_count": 0,
      "outputs": []
    },
    {
      "metadata": {
        "id": "XVQV33nwKZOU",
        "colab_type": "code",
        "colab": {
          "base_uri": "https://localhost:8080/",
          "height": 195
        },
        "outputId": "906b0518-e67d-4cd9-8400-10f0cd6052d9"
      },
      "cell_type": "code",
      "source": [
        "#Show data before anonymization\n",
        "data = pd.read_csv(input_file)\n",
        "data.head()"
      ],
      "execution_count": 10,
      "outputs": [
        {
          "output_type": "execute_result",
          "data": {
            "text/html": [
              "<div>\n",
              "<style scoped>\n",
              "    .dataframe tbody tr th:only-of-type {\n",
              "        vertical-align: middle;\n",
              "    }\n",
              "\n",
              "    .dataframe tbody tr th {\n",
              "        vertical-align: top;\n",
              "    }\n",
              "\n",
              "    .dataframe thead th {\n",
              "        text-align: right;\n",
              "    }\n",
              "</style>\n",
              "<table border=\"1\" class=\"dataframe\">\n",
              "  <thead>\n",
              "    <tr style=\"text-align: right;\">\n",
              "      <th></th>\n",
              "      <th>name</th>\n",
              "      <th>email</th>\n",
              "      <th>ssn</th>\n",
              "      <th>phone_number</th>\n",
              "      <th>drugs</th>\n",
              "      <th>marital status</th>\n",
              "    </tr>\n",
              "  </thead>\n",
              "  <tbody>\n",
              "    <tr>\n",
              "      <th>0</th>\n",
              "      <td>Griffin Spears</td>\n",
              "      <td>metus.Aenean@justofaucibus.edu</td>\n",
              "      <td>052-89-6340</td>\n",
              "      <td>1-609-529-6386</td>\n",
              "      <td>APAP/Codeine</td>\n",
              "      <td>Married</td>\n",
              "    </tr>\n",
              "    <tr>\n",
              "      <th>1</th>\n",
              "      <td>Theodore Kim</td>\n",
              "      <td>aliquam.iaculis@urna.co.uk</td>\n",
              "      <td>591-59-1129</td>\n",
              "      <td>1-519-448-6170</td>\n",
              "      <td>Lovastatin</td>\n",
              "      <td>Married</td>\n",
              "    </tr>\n",
              "    <tr>\n",
              "      <th>2</th>\n",
              "      <td>Kieran Fletcher</td>\n",
              "      <td>Quisque.imperdiet@rhoncusProinnisl.org</td>\n",
              "      <td>099-49-9523</td>\n",
              "      <td>1-505-428-2353</td>\n",
              "      <td>Triamterene/Hydrochlorothiazide</td>\n",
              "      <td>Common-Law</td>\n",
              "    </tr>\n",
              "    <tr>\n",
              "      <th>3</th>\n",
              "      <td>Griffin Spears</td>\n",
              "      <td>metus.Aenean@justofaucibus.edu</td>\n",
              "      <td>052-89-6340</td>\n",
              "      <td>1-609-529-6386</td>\n",
              "      <td>Amlodipine Besylate</td>\n",
              "      <td>Married</td>\n",
              "    </tr>\n",
              "    <tr>\n",
              "      <th>4</th>\n",
              "      <td>Russell Gross</td>\n",
              "      <td>Vestibulum.ante.ipsum@fringillaporttitorvulput...</td>\n",
              "      <td>624-60-2852</td>\n",
              "      <td>1-766-854-8315</td>\n",
              "      <td>Simvastatin</td>\n",
              "      <td>Single</td>\n",
              "    </tr>\n",
              "  </tbody>\n",
              "</table>\n",
              "</div>"
            ],
            "text/plain": [
              "              name                                              email  \\\n",
              "0   Griffin Spears                     metus.Aenean@justofaucibus.edu   \n",
              "1     Theodore Kim                         aliquam.iaculis@urna.co.uk   \n",
              "2  Kieran Fletcher             Quisque.imperdiet@rhoncusProinnisl.org   \n",
              "3   Griffin Spears                     metus.Aenean@justofaucibus.edu   \n",
              "4    Russell Gross  Vestibulum.ante.ipsum@fringillaporttitorvulput...   \n",
              "\n",
              "           ssn    phone_number                            drugs marital status  \n",
              "0  052-89-6340  1-609-529-6386                     APAP/Codeine        Married  \n",
              "1  591-59-1129  1-519-448-6170                       Lovastatin        Married  \n",
              "2  099-49-9523  1-505-428-2353  Triamterene/Hydrochlorothiazide     Common-Law  \n",
              "3  052-89-6340  1-609-529-6386              Amlodipine Besylate        Married  \n",
              "4  624-60-2852  1-766-854-8315                      Simvastatin         Single  "
            ]
          },
          "metadata": {
            "tags": []
          },
          "execution_count": 10
        }
      ]
    },
    {
      "metadata": {
        "id": "3UJpLVvwKZOb",
        "colab_type": "code",
        "colab": {}
      },
      "cell_type": "code",
      "source": [
        "#Call anonymization on the input data file\n",
        "anonymize(input_file, output_file )"
      ],
      "execution_count": 0,
      "outputs": []
    },
    {
      "metadata": {
        "id": "jj9IJwR-KZOf",
        "colab_type": "code",
        "colab": {
          "base_uri": "https://localhost:8080/",
          "height": 195
        },
        "outputId": "9e4ce9d4-4bbf-485e-9d89-e385389fda2b"
      },
      "cell_type": "code",
      "source": [
        "#Show data after anonymization\n",
        "data_anonymized = pd.read_csv(output_file)\n",
        "data_anonymized.head()"
      ],
      "execution_count": 13,
      "outputs": [
        {
          "output_type": "execute_result",
          "data": {
            "text/html": [
              "<div>\n",
              "<style scoped>\n",
              "    .dataframe tbody tr th:only-of-type {\n",
              "        vertical-align: middle;\n",
              "    }\n",
              "\n",
              "    .dataframe tbody tr th {\n",
              "        vertical-align: top;\n",
              "    }\n",
              "\n",
              "    .dataframe thead th {\n",
              "        text-align: right;\n",
              "    }\n",
              "</style>\n",
              "<table border=\"1\" class=\"dataframe\">\n",
              "  <thead>\n",
              "    <tr style=\"text-align: right;\">\n",
              "      <th></th>\n",
              "      <th>name</th>\n",
              "      <th>email</th>\n",
              "      <th>ssn</th>\n",
              "      <th>phone_number</th>\n",
              "      <th>drugs</th>\n",
              "      <th>marital status</th>\n",
              "    </tr>\n",
              "  </thead>\n",
              "  <tbody>\n",
              "    <tr>\n",
              "      <th>0</th>\n",
              "      <td>Molly Hall</td>\n",
              "      <td>rbenson@yahoo.com</td>\n",
              "      <td>083-07-0855</td>\n",
              "      <td>9734077314</td>\n",
              "      <td>APAP/Codeine</td>\n",
              "      <td>Married</td>\n",
              "    </tr>\n",
              "    <tr>\n",
              "      <th>1</th>\n",
              "      <td>Robert Elliott</td>\n",
              "      <td>carrie68@roman.com</td>\n",
              "      <td>285-57-5250</td>\n",
              "      <td>250.717.5453</td>\n",
              "      <td>Lovastatin</td>\n",
              "      <td>Married</td>\n",
              "    </tr>\n",
              "    <tr>\n",
              "      <th>2</th>\n",
              "      <td>Kenneth Brown</td>\n",
              "      <td>amandatodd@hart-cox.com</td>\n",
              "      <td>867-76-5145</td>\n",
              "      <td>(055)191-8979x2447</td>\n",
              "      <td>Triamterene/Hydrochlorothiazide</td>\n",
              "      <td>Common-Law</td>\n",
              "    </tr>\n",
              "    <tr>\n",
              "      <th>3</th>\n",
              "      <td>Molly Hall</td>\n",
              "      <td>rbenson@yahoo.com</td>\n",
              "      <td>083-07-0855</td>\n",
              "      <td>9734077314</td>\n",
              "      <td>Amlodipine Besylate</td>\n",
              "      <td>Married</td>\n",
              "    </tr>\n",
              "    <tr>\n",
              "      <th>4</th>\n",
              "      <td>Andrea Collins</td>\n",
              "      <td>rcollier@gmail.com</td>\n",
              "      <td>466-82-1258</td>\n",
              "      <td>(519)528-9054x423</td>\n",
              "      <td>Simvastatin</td>\n",
              "      <td>Single</td>\n",
              "    </tr>\n",
              "  </tbody>\n",
              "</table>\n",
              "</div>"
            ],
            "text/plain": [
              "             name                    email          ssn        phone_number  \\\n",
              "0      Molly Hall        rbenson@yahoo.com  083-07-0855          9734077314   \n",
              "1  Robert Elliott       carrie68@roman.com  285-57-5250        250.717.5453   \n",
              "2   Kenneth Brown  amandatodd@hart-cox.com  867-76-5145  (055)191-8979x2447   \n",
              "3      Molly Hall        rbenson@yahoo.com  083-07-0855          9734077314   \n",
              "4  Andrea Collins       rcollier@gmail.com  466-82-1258   (519)528-9054x423   \n",
              "\n",
              "                             drugs marital status  \n",
              "0                     APAP/Codeine        Married  \n",
              "1                       Lovastatin        Married  \n",
              "2  Triamterene/Hydrochlorothiazide     Common-Law  \n",
              "3              Amlodipine Besylate        Married  \n",
              "4                      Simvastatin         Single  "
            ]
          },
          "metadata": {
            "tags": []
          },
          "execution_count": 13
        }
      ]
    },
    {
      "metadata": {
        "id": "xcctACIsKZOr",
        "colab_type": "code",
        "colab": {}
      },
      "cell_type": "code",
      "source": [
        ""
      ],
      "execution_count": 0,
      "outputs": []
    }
  ]
}